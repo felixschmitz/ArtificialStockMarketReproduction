{
 "cells": [
  {
   "cell_type": "markdown",
   "metadata": {},
   "source": [
    "# Testing the deviation from market clearing\n",
    "Goal is to figure out why the market is not cleared"
   ]
  },
  {
   "cell_type": "code",
   "execution_count": 6,
   "metadata": {},
   "outputs": [],
   "source": [
    "import random \n",
    "import math "
   ]
  },
  {
   "cell_type": "code",
   "execution_count": 26,
   "metadata": {},
   "outputs": [],
   "source": [
    "def rand_demand(N: int) -> list:\n",
    "    # n random floats \n",
    "    rand_n = [ i for i in random.sample(range(-5, 26), N) ]\n",
    "    # extend the floats so the sum is approximately x (might be up to 3 less, because of flooring) \n",
    "    result = [ math.floor(i * N / sum(rand_n)) for i in rand_n ] \n",
    "    # randomly add missing numbers \n",
    "    for i in range(N - sum(result)): \n",
    "        result[random.randint(0,3)] += 1\n",
    "    return result\n"
   ]
  },
  {
   "cell_type": "code",
   "execution_count": 27,
   "metadata": {},
   "outputs": [
    {
     "data": {
      "text/plain": [
       "[7, 2, 4, 2, 0, -1, 0, 2, 1, 0, 0, 1, 0, 0, 2, 2, -1, 1, -1, 1, 1, 1, 1, -1, 1]"
      ]
     },
     "execution_count": 27,
     "metadata": {},
     "output_type": "execute_result"
    }
   ],
   "source": [
    "rand_demand(25)"
   ]
  },
  {
   "cell_type": "code",
   "execution_count": null,
   "metadata": {},
   "outputs": [],
   "source": [
    "def price_posting(self):\n",
    "    trials = 0 \n",
    "    while sum(self.agents.assets_demanded) != self.p.N or trials == 0: # disallowing the first suggested price\n",
    "        price_change = -(sum(self.agents.assets_demanded) - sum(self.agents.actual_stocks_owned)) / sum(la) # from C code\n",
    "        logger.debug(f'The suggested price change is: {price_change}')\n",
    "        self.demand_difference = self.p.N - sum(self.agents.assets_demanded)\n",
    "        if trials >= self.p.trials_specialist:\n",
    "            if self.demand_difference < 0:\n",
    "                self.agents_specialist_uncalled = self.p.N - list(self.agents.assets_demanded).count(-5)\n",
    "            else:\n",
    "                self.agents_specialist_uncalled = self.p.N - list(self.agents.assets_demanded).count(self.p.N)\n",
    "            self.agents.specialist_demand()\n",
    "            self.record('demand_difference_breaking', self.demand_difference)\n",
    "            break\n",
    "        else:\n",
    "            trials += 1\n",
    "        \n",
    "    \n",
    "    self.prices.append(self.last_price)\n",
    "    self.record('trials', trials)\n",
    "    #print('\\nMarket clearing at price: {} and aggregated absolute demand: {}, in {} trials'.format(current_price, sum(self.agents.abs_asset_demand), trials))\n"
   ]
  }
 ],
 "metadata": {
  "kernelspec": {
   "display_name": "Python 3.10.6 64-bit",
   "language": "python",
   "name": "python3"
  },
  "language_info": {
   "codemirror_mode": {
    "name": "ipython",
    "version": 3
   },
   "file_extension": ".py",
   "mimetype": "text/x-python",
   "name": "python",
   "nbconvert_exporter": "python",
   "pygments_lexer": "ipython3",
   "version": "3.10.6"
  },
  "orig_nbformat": 4,
  "vscode": {
   "interpreter": {
    "hash": "cf42cc9b8d3f8425c3cab6417625363bc5c757b41fc9cbf92d563151e60765bb"
   }
  }
 },
 "nbformat": 4,
 "nbformat_minor": 2
}
